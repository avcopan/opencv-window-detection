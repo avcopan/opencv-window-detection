{
 "cells": [
  {
   "cell_type": "code",
   "execution_count": 1,
   "id": "cb8f1b1c-1055-4fba-848b-e98b9c2923b3",
   "metadata": {},
   "outputs": [],
   "source": [
    "import cv2 as cv\n",
    "import numpy as np"
   ]
  },
  {
   "cell_type": "code",
   "execution_count": 2,
   "id": "c38c19af-fc98-49f2-b976-9f8130393c61",
   "metadata": {},
   "outputs": [
    {
     "name": "stdout",
     "output_type": "stream",
     "text": [
      "['window', 'window-outside']\n",
      "[[143.12041442  55.22259916 200.62702689]\n",
      " [ 22.92626708 187.90448728 175.48843884]]\n"
     ]
    }
   ],
   "source": [
    "# 1. read in the class names and assign random colors to each\n",
    "with open('../classes.txt', 'r') as f:\n",
    "    class_names = f.read().strip().split('\\n')\n",
    "\n",
    "colors = np.random.uniform(0, 255, size=(len(class_names), 3))\n",
    "print(class_names)\n",
    "print(colors)"
   ]
  },
  {
   "cell_type": "code",
   "execution_count": 3,
   "id": "8fcea2b3-0c20-41a6-921a-625ef7f4d694",
   "metadata": {},
   "outputs": [],
   "source": [
    "# 2. load the model\n",
    "model = cv.dnn.readNetFromONNX('../best.onnx')"
   ]
  },
  {
   "cell_type": "code",
   "execution_count": 4,
   "id": "80dd2922-0939-43c6-9552-7e9f651b5b38",
   "metadata": {},
   "outputs": [],
   "source": [
    "# 3. read in the image and prepare it for model input\n",
    "image = cv.imread('../window_example.jpg')\n",
    "height, width, _ = image.shape\n",
    "\n",
    "blob = cv.dnn.blobFromImage(\n",
    "    image=image,\n",
    "    size=(640, 640),\n",
    "    mean=(104, 117, 123),\n",
    "    #swapRB=True,  # openCV reads BGR color, so this swaps to RGB to match the model\n",
    ")\n",
    "model.setInput(blob)\n",
    "output = model.forward()"
   ]
  },
  {
   "cell_type": "code",
   "execution_count": 5,
   "id": "252e8dc4-9562-4ba8-84da-54e99b82d2f7",
   "metadata": {},
   "outputs": [
    {
     "data": {
      "text/plain": [
       "(8400, 6)"
      ]
     },
     "execution_count": 5,
     "metadata": {},
     "output_type": "execute_result"
    }
   ],
   "source": [
    "output[0, :, :].T.shape"
   ]
  },
  {
   "cell_type": "code",
   "execution_count": 10,
   "id": "7eb9b9dc-6791-4753-8c96-48ddcac058ec",
   "metadata": {},
   "outputs": [
    {
     "name": "stdout",
     "output_type": "stream",
     "text": [
      "352.05365 161.22191 109.94003 70.03549\n"
     ]
    },
    {
     "ename": "error",
     "evalue": "OpenCV(4.8.0) :-1: error: (-5:Bad argument) in function 'rectangle'\n> Overload resolution failed:\n>  - Can't parse 'pt1'. Sequence item with index 0 has a wrong type\n>  - Can't parse 'pt1'. Sequence item with index 0 has a wrong type\n>  - Can't parse 'rec'. Expected sequence length 4, got 2\n>  - Can't parse 'rec'. Expected sequence length 4, got 2\n",
     "output_type": "error",
     "traceback": [
      "\u001b[0;31m---------------------------------------------------------------------------\u001b[0m",
      "\u001b[0;31merror\u001b[0m                                     Traceback (most recent call last)",
      "Cell \u001b[0;32mIn[10], line 11\u001b[0m\n\u001b[1;32m      9\u001b[0m         class_name \u001b[38;5;241m=\u001b[39m class_names[class_id]\n\u001b[1;32m     10\u001b[0m         color \u001b[38;5;241m=\u001b[39m colors[class_id]\n\u001b[0;32m---> 11\u001b[0m         \u001b[43mcv\u001b[49m\u001b[38;5;241;43m.\u001b[39;49m\u001b[43mrectangle\u001b[49m\u001b[43m(\u001b[49m\u001b[43mimage\u001b[49m\u001b[43m,\u001b[49m\u001b[43m \u001b[49m\u001b[43m(\u001b[49m\u001b[43mbbox_x\u001b[49m\u001b[43m,\u001b[49m\u001b[43m \u001b[49m\u001b[43mbbox_y\u001b[49m\u001b[43m)\u001b[49m\u001b[43m,\u001b[49m\u001b[43m \u001b[49m\u001b[43m(\u001b[49m\u001b[43mbbox_width\u001b[49m\u001b[43m,\u001b[49m\u001b[43m \u001b[49m\u001b[43mbbox_height\u001b[49m\u001b[43m)\u001b[49m\u001b[43m,\u001b[49m\u001b[43m \u001b[49m\u001b[43m(\u001b[49m\u001b[38;5;241;43m0\u001b[39;49m\u001b[43m,\u001b[49m\u001b[43m \u001b[49m\u001b[38;5;241;43m255\u001b[39;49m\u001b[43m,\u001b[49m\u001b[43m \u001b[49m\u001b[38;5;241;43m0\u001b[39;49m\u001b[43m)\u001b[49m\u001b[43m,\u001b[49m\u001b[43m \u001b[49m\u001b[38;5;241;43m2\u001b[39;49m\u001b[43m)\u001b[49m\n\u001b[1;32m     12\u001b[0m         cv\u001b[38;5;241m.\u001b[39mputText(image, class_name, (bbox_x, bbox_y \u001b[38;5;241m-\u001b[39m \u001b[38;5;241m5\u001b[39m), cv\u001b[38;5;241m.\u001b[39mFONT_HERSHEY_SIMPLEX, \u001b[38;5;241m1\u001b[39m, color, \u001b[38;5;241m2\u001b[39m)\n\u001b[1;32m     14\u001b[0m cv\u001b[38;5;241m.\u001b[39mimshow(\u001b[38;5;124m'\u001b[39m\u001b[38;5;124mimage\u001b[39m\u001b[38;5;124m'\u001b[39m, image)\n",
      "\u001b[0;31merror\u001b[0m: OpenCV(4.8.0) :-1: error: (-5:Bad argument) in function 'rectangle'\n> Overload resolution failed:\n>  - Can't parse 'pt1'. Sequence item with index 0 has a wrong type\n>  - Can't parse 'pt1'. Sequence item with index 0 has a wrong type\n>  - Can't parse 'rec'. Expected sequence length 4, got 2\n>  - Can't parse 'rec'. Expected sequence length 4, got 2\n"
     ]
    }
   ],
   "source": [
    "# Note, the shape is (1, 6, 8400), so the first two axes do nothing\n",
    "for detection in output[0, :, :].T:\n",
    "    bbox_x, bbox_y, bbox_width, bbox_height = detection[:4]\n",
    "    probs = detection[4:]\n",
    "    class_id = np.argmax(probs)\n",
    "    max_prob = probs[class_id]\n",
    "    if max_prob > 0.1:\n",
    "        print(bbox_x, bbox_y, bbox_width, bbox_height)\n",
    "        class_name = class_names[class_id]\n",
    "        color = colors[class_id]\n",
    "        cv.rectangle(image, (bbox_x, bbox_y), (bbox_width, bbox_height), (0, 255, 0), 2)\n",
    "        cv.putText(image, class_name, (bbox_x, bbox_y - 5), cv.FONT_HERSHEY_SIMPLEX, 1, color, 2)\n",
    "\n",
    "cv.imshow('image', image)\n",
    "cv.imwrite('image_result.jpg', image)\n",
    "cv.waitKey()\n",
    "cv.destroyAllWindows()\n"
   ]
  },
  {
   "cell_type": "code",
   "execution_count": null,
   "id": "2da8cd02-58f6-4d47-8922-ec184ec9cb80",
   "metadata": {},
   "outputs": [],
   "source": []
  }
 ],
 "metadata": {
  "kernelspec": {
   "display_name": "Python 3 (ipykernel)",
   "language": "python",
   "name": "python3"
  },
  "language_info": {
   "codemirror_mode": {
    "name": "ipython",
    "version": 3
   },
   "file_extension": ".py",
   "mimetype": "text/x-python",
   "name": "python",
   "nbconvert_exporter": "python",
   "pygments_lexer": "ipython3",
   "version": "3.11.5"
  }
 },
 "nbformat": 4,
 "nbformat_minor": 5
}
