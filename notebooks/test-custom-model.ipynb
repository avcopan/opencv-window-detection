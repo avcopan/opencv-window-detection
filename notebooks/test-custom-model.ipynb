{
 "cells": [
  {
   "cell_type": "code",
   "execution_count": 1,
   "id": "cb8f1b1c-1055-4fba-848b-e98b9c2923b3",
   "metadata": {},
   "outputs": [],
   "source": [
    "import cv2 as cv\n",
    "import numpy as np"
   ]
  },
  {
   "cell_type": "code",
   "execution_count": 2,
   "id": "c38c19af-fc98-49f2-b976-9f8130393c61",
   "metadata": {},
   "outputs": [
    {
     "name": "stdout",
     "output_type": "stream",
     "text": [
      "['window', 'window-outside']\n",
      "[[144.8117893  213.05178003  55.82097117]\n",
      " [144.41193844 225.1806556   52.97931519]]\n"
     ]
    }
   ],
   "source": [
    "with open('../classes.txt', 'r') as f:\n",
    "    class_names = f.read().strip().split('\\n')\n",
    "\n",
    "colors = np.random.uniform(0, 255, size=(len(class_names), 3))\n",
    "print(class_names)\n",
    "print(colors)"
   ]
  },
  {
   "cell_type": "code",
   "execution_count": null,
   "id": "8fcea2b3-0c20-41a6-921a-625ef7f4d694",
   "metadata": {},
   "outputs": [],
   "source": []
  }
 ],
 "metadata": {
  "kernelspec": {
   "display_name": "Python 3 (ipykernel)",
   "language": "python",
   "name": "python3"
  },
  "language_info": {
   "codemirror_mode": {
    "name": "ipython",
    "version": 3
   },
   "file_extension": ".py",
   "mimetype": "text/x-python",
   "name": "python",
   "nbconvert_exporter": "python",
   "pygments_lexer": "ipython3",
   "version": "3.11.5"
  }
 },
 "nbformat": 4,
 "nbformat_minor": 5
}
