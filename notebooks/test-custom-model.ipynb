{
 "cells": [
  {
   "cell_type": "code",
   "execution_count": 1,
   "id": "619bfba6-0c29-426b-9bdf-78a5211afdff",
   "metadata": {},
   "outputs": [
    {
     "name": "stderr",
     "output_type": "stream",
     "text": [
      "WARNING ⚠️ 'ultralytics.yolo.v8' is deprecated since '8.0.136' and will be removed in '8.1.0'. Please use 'ultralytics.models.yolo' instead.\n",
      "WARNING ⚠️ 'ultralytics.yolo.utils' is deprecated since '8.0.136' and will be removed in '8.1.0'. Please use 'ultralytics.utils' instead.\n",
      "Note this warning may be related to loading older models. You can update your model to current structure with:\n",
      "    import torch\n",
      "    ckpt = torch.load(\"model.pt\")  # applies to both official and custom models\n",
      "    torch.save(ckpt, \"updated-model.pt\")\n",
      "\n"
     ]
    }
   ],
   "source": [
    "import cv2 as cv\n",
    "import pybboxes as pbx\n",
    "from ultralytics import YOLO\n",
    "from ultralytics.yolo.utils.plotting import Annotator"
   ]
  },
  {
   "cell_type": "code",
   "execution_count": 2,
   "id": "c0fb7f77-4111-4e3e-b436-76faffebec88",
   "metadata": {},
   "outputs": [],
   "source": [
    "model = YOLO('../best.pt')"
   ]
  },
  {
   "cell_type": "code",
   "execution_count": 3,
   "id": "0f359e4b-8fd1-40a9-9034-e7c67d30407c",
   "metadata": {},
   "outputs": [
    {
     "data": {
      "text/plain": [
       "['window', 'window-outside']"
      ]
     },
     "execution_count": 3,
     "metadata": {},
     "output_type": "execute_result"
    }
   ],
   "source": [
    "class_names = open('../classes.txt').read().strip().splitlines()\n",
    "class_names"
   ]
  },
  {
   "cell_type": "code",
   "execution_count": 4,
   "id": "65c8be5f-1027-41a2-8b31-51302fdeb10b",
   "metadata": {},
   "outputs": [
    {
     "name": "stderr",
     "output_type": "stream",
     "text": [
      "\n",
      "0: 640x480 2 windows, 62.6ms\n",
      "Speed: 4.7ms preprocess, 62.6ms inference, 0.8ms postprocess per image at shape (1, 3, 640, 480)\n"
     ]
    }
   ],
   "source": [
    "file_name = 'window_example2'\n",
    "image = cv.imread(f'../{file_name}.jpg')\n",
    "image = cv.resize(image, (600, 800), interpolation=cv.INTER_LINEAR)\n",
    "\n",
    "height, width, _ = image.shape\n",
    "\n",
    "bgr_image = cv.cvtColor(image, cv.COLOR_BGR2RGB)\n",
    "results = model.predict(bgr_image, conf=0.5, classes=0)\n",
    "# annotator = Annotator(image)"
   ]
  },
  {
   "cell_type": "code",
   "execution_count": 5,
   "id": "7b5b3539-74f2-45a8-b3bf-d6ed2c87eaa7",
   "metadata": {},
   "outputs": [
    {
     "name": "stderr",
     "output_type": "stream",
     "text": [
      "Warning: Ignoring XDG_SESSION_TYPE=wayland on Gnome. Use QT_QPA_PLATFORM=wayland to run on Wayland anyway.\n"
     ]
    },
    {
     "name": "stdout",
     "output_type": "stream",
     "text": [
      "window\n",
      "(97, 30, 495, 258)\n",
      "window\n",
      "(300, 251, 464, 672)\n"
     ]
    }
   ],
   "source": [
    "for result in results:\n",
    "    for box in result.boxes:\n",
    "        class_id = int(box.cls)\n",
    "        class_name = class_names[class_id]\n",
    "        yolo_bbox = list(map(float, box.xywhn[0]))\n",
    "        cv_bbox = pbx.convert_bbox(yolo_bbox, from_type=\"yolo\", to_type=\"voc\", image_size=(width, height))\n",
    "            \n",
    "        print(class_name)\n",
    "        print(cv_bbox)\n",
    "        cv.rectangle(image, cv_bbox[:2], cv_bbox[2:], (0, 255, 0), thickness=2)\n",
    "\n",
    "cv.imshow(f'{file_name}_annotated', image)\n",
    "cv.imwrite(f'{file_name}_annotated.jpg', image)\n",
    "cv.waitKey()\n",
    "cv.destroyAllWindows()"
   ]
  },
  {
   "cell_type": "code",
   "execution_count": null,
   "id": "e5aee2b2-614c-4561-a088-8e334e30d9f4",
   "metadata": {},
   "outputs": [],
   "source": []
  }
 ],
 "metadata": {
  "kernelspec": {
   "display_name": "Python 3 (ipykernel)",
   "language": "python",
   "name": "python3"
  },
  "language_info": {
   "codemirror_mode": {
    "name": "ipython",
    "version": 3
   },
   "file_extension": ".py",
   "mimetype": "text/x-python",
   "name": "python",
   "nbconvert_exporter": "python",
   "pygments_lexer": "ipython3",
   "version": "3.11.5"
  }
 },
 "nbformat": 4,
 "nbformat_minor": 5
}
