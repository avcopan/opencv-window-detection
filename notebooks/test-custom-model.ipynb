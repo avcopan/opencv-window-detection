{
 "cells": [
  {
   "cell_type": "code",
   "execution_count": 1,
   "id": "619bfba6-0c29-426b-9bdf-78a5211afdff",
   "metadata": {},
   "outputs": [
    {
     "name": "stderr",
     "output_type": "stream",
     "text": [
      "WARNING ⚠️ 'ultralytics.yolo.v8' is deprecated since '8.0.136' and will be removed in '8.1.0'. Please use 'ultralytics.models.yolo' instead.\n",
      "WARNING ⚠️ 'ultralytics.yolo.utils' is deprecated since '8.0.136' and will be removed in '8.1.0'. Please use 'ultralytics.utils' instead.\n",
      "Note this warning may be related to loading older models. You can update your model to current structure with:\n",
      "    import torch\n",
      "    ckpt = torch.load(\"model.pt\")  # applies to both official and custom models\n",
      "    torch.save(ckpt, \"updated-model.pt\")\n",
      "\n"
     ]
    }
   ],
   "source": [
    "import cv2 as cv\n",
    "from ultralytics import YOLO\n",
    "from ultralytics.yolo.utils.plotting import Annotator"
   ]
  },
  {
   "cell_type": "code",
   "execution_count": 2,
   "id": "c0fb7f77-4111-4e3e-b436-76faffebec88",
   "metadata": {},
   "outputs": [],
   "source": [
    "model = YOLO('../best.pt')"
   ]
  },
  {
   "cell_type": "code",
   "execution_count": 3,
   "id": "0f359e4b-8fd1-40a9-9034-e7c67d30407c",
   "metadata": {},
   "outputs": [
    {
     "data": {
      "text/plain": [
       "['window', 'window-outside']"
      ]
     },
     "execution_count": 3,
     "metadata": {},
     "output_type": "execute_result"
    }
   ],
   "source": [
    "class_names = open('../classes.txt').read().strip().splitlines()\n",
    "class_names"
   ]
  },
  {
   "cell_type": "code",
   "execution_count": 4,
   "id": "65c8be5f-1027-41a2-8b31-51302fdeb10b",
   "metadata": {},
   "outputs": [
    {
     "name": "stderr",
     "output_type": "stream",
     "text": [
      "\n",
      "0: 448x640 2 windows, 92.6ms\n",
      "Speed: 8.1ms preprocess, 92.6ms inference, 0.8ms postprocess per image at shape (1, 3, 448, 640)\n"
     ]
    }
   ],
   "source": [
    "image = cv.imread('../window_example.jpg')\n",
    "image = cv.cvtColor(image, cv.COLOR_BGR2RGB)\n",
    "results = model.predict(image, conf=0.5, classes=0)\n",
    "annotator = Annotator(image)"
   ]
  },
  {
   "cell_type": "code",
   "execution_count": 10,
   "id": "7b5b3539-74f2-45a8-b3bf-d6ed2c87eaa7",
   "metadata": {},
   "outputs": [
    {
     "name": "stdout",
     "output_type": "stream",
     "text": [
      "window\n",
      "tensor([567.1852, 224.4161]) tensor([567.1852, 224.4161])\n",
      "window\n",
      "tensor([973.2778, 224.7985]) tensor([973.2778, 224.7985])\n"
     ]
    }
   ],
   "source": [
    "for result in results:\n",
    "    for box in result.boxes:\n",
    "        class_id = int(box.cls)\n",
    "        class_name = class_names[class_id]\n",
    "        bbox = box.xywh[0]\n",
    "        bbox_xy = bbox[:2]\n",
    "        bbox_wh = bbox[:2]\n",
    "        print(class_name)\n",
    "        print(bbox_xy, bbox_wh)\n",
    "        # bbx0, bby0, bbx1, bby1 = map(int, box.xyxy[0])\n",
    "        # bbxw = bbx1 - bbx0\n",
    "        # bbyh = bby1 - bby0\n",
    "        # cv.rectangle(image, (bbx0, bby0), (bbxw, bbyh), (0, 255, 0), thickness=2)\n",
    "\n",
    "# cv.imshow('image', image)\n",
    "# cv.waitKey()\n",
    "# cv.destroyAllWindows()"
   ]
  },
  {
   "cell_type": "code",
   "execution_count": null,
   "id": "8db8ead9-b4a4-4e70-a2aa-0b3355543df1",
   "metadata": {},
   "outputs": [],
   "source": []
  }
 ],
 "metadata": {
  "kernelspec": {
   "display_name": "Python 3 (ipykernel)",
   "language": "python",
   "name": "python3"
  },
  "language_info": {
   "codemirror_mode": {
    "name": "ipython",
    "version": 3
   },
   "file_extension": ".py",
   "mimetype": "text/x-python",
   "name": "python",
   "nbconvert_exporter": "python",
   "pygments_lexer": "ipython3",
   "version": "3.11.5"
  }
 },
 "nbformat": 4,
 "nbformat_minor": 5
}
